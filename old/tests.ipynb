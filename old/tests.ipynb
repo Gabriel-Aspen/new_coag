{
 "cells": [
  {
   "cell_type": "code",
   "execution_count": 124,
   "metadata": {},
   "outputs": [],
   "source": [
    "import pandas as pd\n",
    "import numpy as np\n",
    "from oop_functions import Collection\n",
    "import re"
   ]
  },
  {
   "cell_type": "code",
   "execution_count": 140,
   "metadata": {},
   "outputs": [
    {
     "data": {
      "text/plain": [
       "Index(['Patient First Name', 'Patient Last Name', 'MRN', 'DOB', 'Sex',\n",
       "       'Order Date', 'COVID19 Component Value', 'Height', 'Weight', 'Temp',\n",
       "       'Pulse', 'Systolic BP', 'Diastolic BP', 'Smoking Status',\n",
       "       'Last Pack Years', 'Medical History', 'Diagnosis from Problem List',\n",
       "       'PMH', 'Last EF Value', 'Current Medications', 'ED Vis Last 90 Days',\n",
       "       'Last ED Visit', 'ED Visits-Last 30 Days'],\n",
       "      dtype='object')"
      ]
     },
     "execution_count": 140,
     "metadata": {},
     "output_type": "execute_result"
    }
   ],
   "source": [
    "df = pd.read_excel('datasets/month_followup.xlsx', converters={'MRN': str}, parse_dates=['Order Date', 'Last ED Visit'])\n",
    "df.columns"
   ]
  },
  {
   "cell_type": "code",
   "execution_count": 123,
   "metadata": {},
   "outputs": [
    {
     "data": {
      "text/plain": [
       "0      NaN\n",
       "1      NaN\n",
       "2      NaN\n",
       "3      NaN\n",
       "4      NaN\n",
       "        ..\n",
       "1175   NaN\n",
       "1176   NaN\n",
       "1177   NaN\n",
       "1178   NaN\n",
       "1179   NaN\n",
       "Name: Last EF Value, Length: 1180, dtype: float64"
      ]
     },
     "execution_count": 123,
     "metadata": {},
     "output_type": "execute_result"
    }
   ],
   "source": [
    "df[\"Last EF Value\"]\n",
    "ef_series = df[\"Last EF Value\"].fillna(\"1000\")\n",
    "ef_series = ef_series.apply(lambda x: re.search('\\d+|$', str(x)).group())\n",
    "ef_series.replace(\"1000\", np.NaN, inplace=True)\n",
    "# ef_series.dtype\n",
    "pd.to_numeric(ef_series, errors='coerce')"
   ]
  },
  {
   "cell_type": "code",
   "execution_count": 84,
   "metadata": {},
   "outputs": [
    {
     "data": {
      "text/plain": [
       "138     (!) 0\n",
       "144     (!) 0\n",
       "464     (!) 0\n",
       "909     (!) 0\n",
       "978     (!) 0\n",
       "1162    (!) 0\n",
       "Name: Pulse, dtype: object"
      ]
     },
     "execution_count": 84,
     "metadata": {},
     "output_type": "execute_result"
    }
   ],
   "source": [
    "df['Pulse'][df.pulse == 0]"
   ]
  },
  {
   "cell_type": "code",
   "execution_count": 21,
   "metadata": {},
   "outputs": [],
   "source": [
    "import re\n",
    "a = []\n",
    "for i in df.weight:\n",
    "    # a.append(re.split(' kg', i)[0])\n",
    "    b = i.split(' kg')[0]\n",
    "    a.append(b.replace('(!) ', ''))\n"
   ]
  },
  {
   "cell_type": "code",
   "execution_count": 22,
   "metadata": {},
   "outputs": [
    {
     "data": {
      "text/plain": [
       "['None',\n",
       " 'None',\n",
       " 'None',\n",
       " '98',\n",
       " 'None',\n",
       " '69.4',\n",
       " 'None',\n",
       " 'None',\n",
       " '82.6',\n",
       " 'None',\n",
       " 'None',\n",
       " 'None',\n",
       " '63',\n",
       " 'None',\n",
       " 'None',\n",
       " 'None',\n",
       " 'None',\n",
       " '89.9',\n",
       " '69',\n",
       " '112',\n",
       " 'None',\n",
       " '112',\n",
       " '70.8',\n",
       " '14.8',\n",
       " 'None',\n",
       " '104.8',\n",
       " '80.7',\n",
       " '101.4',\n",
       " '119.7',\n",
       " '66.1',\n",
       " '97.3',\n",
       " '58.7',\n",
       " '70.8',\n",
       " '79.3',\n",
       " '107.7',\n",
       " '112.2',\n",
       " '71.6',\n",
       " 'None',\n",
       " '106.6',\n",
       " '84.5',\n",
       " '143.4',\n",
       " '34.6',\n",
       " '54.4',\n",
       " 'None',\n",
       " '98',\n",
       " 'None',\n",
       " '106.1',\n",
       " '108.9',\n",
       " '97.6',\n",
       " '72.6']"
      ]
     },
     "execution_count": 22,
     "metadata": {},
     "output_type": "execute_result"
    }
   ],
   "source": [
    "a[50:100]"
   ]
  },
  {
   "cell_type": "code",
   "execution_count": 5,
   "metadata": {},
   "outputs": [
    {
     "data": {
      "text/plain": [
       "0          1.549 m (5' 1\")\n",
       "1          1.575 m (5' 2\")\n",
       "2                     None\n",
       "3          1.549 m (5' 1\")\n",
       "4                     None\n",
       "               ...        \n",
       "1175       1.575 m (5' 2\")\n",
       "1176    158.8 cm (5' 2.5\")\n",
       "1177    1.473 m (4' 9.99\")\n",
       "1178       1.753 m (5' 9\")\n",
       "1179       1.626 m (5' 4\")\n",
       "Name: height, Length: 1180, dtype: object"
      ]
     },
     "execution_count": 5,
     "metadata": {},
     "output_type": "execute_result"
    }
   ],
   "source": [
    "df.height\n"
   ]
  },
  {
   "cell_type": "code",
   "execution_count": 4,
   "metadata": {},
   "outputs": [],
   "source": [
    "for i in df.height:\n",
    "    if i == \"None\":\n",
    "        i = \"yes\""
   ]
  },
  {
   "cell_type": "code",
   "execution_count": 6,
   "metadata": {},
   "outputs": [
    {
     "data": {
      "text/html": [
       "<div>\n",
       "<style scoped>\n",
       "    .dataframe tbody tr th:only-of-type {\n",
       "        vertical-align: middle;\n",
       "    }\n",
       "\n",
       "    .dataframe tbody tr th {\n",
       "        vertical-align: top;\n",
       "    }\n",
       "\n",
       "    .dataframe thead th {\n",
       "        text-align: right;\n",
       "    }\n",
       "</style>\n",
       "<table border=\"1\" class=\"dataframe\">\n",
       "  <thead>\n",
       "    <tr style=\"text-align: right;\">\n",
       "      <th></th>\n",
       "      <th>Unnamed: 0</th>\n",
       "      <th>ED Vis Last 90 Days</th>\n",
       "      <th>Last ED Visit</th>\n",
       "      <th>ED Visits-Last 30 Days</th>\n",
       "    </tr>\n",
       "  </thead>\n",
       "  <tbody>\n",
       "    <tr>\n",
       "      <th>0</th>\n",
       "      <td>0</td>\n",
       "      <td>3</td>\n",
       "      <td>9/11/2021</td>\n",
       "      <td>1</td>\n",
       "    </tr>\n",
       "    <tr>\n",
       "      <th>1</th>\n",
       "      <td>1</td>\n",
       "      <td>0</td>\n",
       "      <td>3/14/2021</td>\n",
       "      <td>0</td>\n",
       "    </tr>\n",
       "    <tr>\n",
       "      <th>2</th>\n",
       "      <td>2</td>\n",
       "      <td>0</td>\n",
       "      <td>NaN</td>\n",
       "      <td>0</td>\n",
       "    </tr>\n",
       "    <tr>\n",
       "      <th>3</th>\n",
       "      <td>3</td>\n",
       "      <td>0</td>\n",
       "      <td>NaN</td>\n",
       "      <td>0</td>\n",
       "    </tr>\n",
       "    <tr>\n",
       "      <th>4</th>\n",
       "      <td>4</td>\n",
       "      <td>0</td>\n",
       "      <td>NaN</td>\n",
       "      <td>0</td>\n",
       "    </tr>\n",
       "    <tr>\n",
       "      <th>...</th>\n",
       "      <td>...</td>\n",
       "      <td>...</td>\n",
       "      <td>...</td>\n",
       "      <td>...</td>\n",
       "    </tr>\n",
       "    <tr>\n",
       "      <th>1175</th>\n",
       "      <td>1175</td>\n",
       "      <td>0</td>\n",
       "      <td>NaN</td>\n",
       "      <td>0</td>\n",
       "    </tr>\n",
       "    <tr>\n",
       "      <th>1176</th>\n",
       "      <td>1176</td>\n",
       "      <td>0</td>\n",
       "      <td>NaN</td>\n",
       "      <td>0</td>\n",
       "    </tr>\n",
       "    <tr>\n",
       "      <th>1177</th>\n",
       "      <td>1177</td>\n",
       "      <td>0</td>\n",
       "      <td>3/29/2021</td>\n",
       "      <td>0</td>\n",
       "    </tr>\n",
       "    <tr>\n",
       "      <th>1178</th>\n",
       "      <td>1178</td>\n",
       "      <td>1</td>\n",
       "      <td>NaN</td>\n",
       "      <td>0</td>\n",
       "    </tr>\n",
       "    <tr>\n",
       "      <th>1179</th>\n",
       "      <td>1179</td>\n",
       "      <td>0</td>\n",
       "      <td>NaN</td>\n",
       "      <td>0</td>\n",
       "    </tr>\n",
       "  </tbody>\n",
       "</table>\n",
       "<p>1180 rows × 4 columns</p>\n",
       "</div>"
      ],
      "text/plain": [
       "      Unnamed: 0  ED Vis Last 90 Days Last ED Visit  ED Visits-Last 30 Days\n",
       "0              0                    3     9/11/2021                       1\n",
       "1              1                    0     3/14/2021                       0\n",
       "2              2                    0           NaN                       0\n",
       "3              3                    0           NaN                       0\n",
       "4              4                    0           NaN                       0\n",
       "...          ...                  ...           ...                     ...\n",
       "1175        1175                    0           NaN                       0\n",
       "1176        1176                    0           NaN                       0\n",
       "1177        1177                    0     3/29/2021                       0\n",
       "1178        1178                    1           NaN                       0\n",
       "1179        1179                    0           NaN                       0\n",
       "\n",
       "[1180 rows x 4 columns]"
      ]
     },
     "execution_count": 6,
     "metadata": {},
     "output_type": "execute_result"
    }
   ],
   "source": [
    "pd.read_excel('test.xlsx')"
   ]
  },
  {
   "cell_type": "code",
   "execution_count": null,
   "metadata": {},
   "outputs": [],
   "source": []
  }
 ],
 "metadata": {
  "interpreter": {
   "hash": "10e0d638eefbd210342c1bec3aaa83b3d24bdcf44b91d0e162aeefbc2327be95"
  },
  "kernelspec": {
   "display_name": "Python 3.9.10 ('coag_env': venv)",
   "language": "python",
   "name": "python3"
  },
  "language_info": {
   "codemirror_mode": {
    "name": "ipython",
    "version": 3
   },
   "file_extension": ".py",
   "mimetype": "text/x-python",
   "name": "python",
   "nbconvert_exporter": "python",
   "pygments_lexer": "ipython3",
   "version": "3.9.10"
  },
  "orig_nbformat": 4
 },
 "nbformat": 4,
 "nbformat_minor": 2
}
