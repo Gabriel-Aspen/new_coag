{
 "cells": [
  {
   "cell_type": "code",
   "execution_count": 1,
   "metadata": {},
   "outputs": [],
   "source": [
    "import pandas as pd\n",
    "import numpy as np\n",
    "from functions.cleaning import *\n",
    "from functions.processing import *\n",
    "from name_dictionary import name_dict\n",
    "from functions.preprocessing import *\n",
    "\n",
    "DATA_PATH = 'datasets/dec-jan.xlsx'\n",
    "raw_df = pd.read_excel(DATA_PATH, converters={'MRN': str}, parse_dates=['Order Date', 'Last ED Visit'])\n",
    "# raw_df = pd.read_excel(DATA_PATH)\n",
    "# template = pd.read_csv(\"import_template.csv\")\n",
    "# clean_df = clean_data(raw_df)\n",
    "# df = process_data(clean_df, template)\n"
   ]
  },
  {
   "cell_type": "code",
   "execution_count": 13,
   "metadata": {},
   "outputs": [],
   "source": [
    "df = raw_df.drop_duplicates(subset = [\"MRN\"])"
   ]
  },
  {
   "cell_type": "code",
   "execution_count": 11,
   "metadata": {},
   "outputs": [],
   "source": [
    "from datetime import datetime\n",
    "from uuid import uuid4\n",
    "\n",
    "EVENT_NAME = \"followup\"\n",
    "\n",
    "\n",
    "timestamp = datetime.now().strftime('%Y-%m-%d%H-%M')\n",
    "run_name = EVENT_NAME + '-' + timestamp\n",
    "os.mkdir('test_files/{}'.format(run_name))"
   ]
  },
  {
   "cell_type": "code",
   "execution_count": 10,
   "metadata": {},
   "outputs": [
    {
     "name": "stdout",
     "output_type": "stream",
     "text": [
      "hello-2022-06-1912-53\n"
     ]
    }
   ],
   "source": [
    "t = \"hello\"\n",
    "a = t + '-' + eventid\n",
    "print(a)"
   ]
  },
  {
   "cell_type": "code",
   "execution_count": 2,
   "metadata": {},
   "outputs": [
    {
     "name": "stdout",
     "output_type": "stream",
     "text": [
      "Missing test removed: 57\n",
      "Negatives removed: 64\n",
      "Duplicate patients removed: 3146\n",
      "Patients recently hospitalized: 1\n",
      "Patients with too many meds: 1\n"
     ]
    }
   ],
   "source": [
    "a,b,c = preprocess_data(raw_df, drop_duplicates=False)"
   ]
  },
  {
   "cell_type": "code",
   "execution_count": 80,
   "metadata": {},
   "outputs": [
    {
     "data": {
      "text/plain": [
       "37"
      ]
     },
     "execution_count": 80,
     "metadata": {},
     "output_type": "execute_result"
    }
   ],
   "source": [
    "raw_df.loc[raw_df[\"Current Medications\"].fillna(\"none\").str.contains('There are too many')]"
   ]
  },
  {
   "cell_type": "code",
   "execution_count": 52,
   "metadata": {},
   "outputs": [],
   "source": [
    "ed_df = raw_df[raw_df[\"ED Visits-Last 30 Days\"] != 0]\n",
    "df = raw_df.drop(ed_df.index)"
   ]
  },
  {
   "cell_type": "code",
   "execution_count": null,
   "metadata": {},
   "outputs": [],
   "source": []
  },
  {
   "cell_type": "code",
   "execution_count": 58,
   "metadata": {},
   "outputs": [
    {
     "data": {
      "text/plain": [
       "history_of_or_current_diag___1      14.0\n",
       "history_of_or_current_diag___2      23.0\n",
       "history_of_or_current_diag___3      20.0\n",
       "history_of_or_current_diag___4      28.0\n",
       "history_of_or_current_diag___5      31.0\n",
       "history_of_or_current_diag___6     207.0\n",
       "history_of_or_current_diag___7     114.0\n",
       "history_of_or_current_diag___8      16.0\n",
       "history_of_or_current_diag___9      19.0\n",
       "history_of_or_current_diag___10     17.0\n",
       "history_of_or_current_diag___11    129.0\n",
       "history_of_or_current_diag___12      2.0\n",
       "history_of_or_current_diag___13      1.0\n",
       "history_of_or_current_diag___14     11.0\n",
       "history_of_or_current_diag___15     53.0\n",
       "history_of_or_current_diag___16     97.0\n",
       "dtype: float64"
      ]
     },
     "execution_count": 58,
     "metadata": {},
     "output_type": "execute_result"
    }
   ],
   "source": [
    "idf[idf.columns[20:36]].replace(\"1\", 1).sum()"
   ]
  },
  {
   "cell_type": "code",
   "execution_count": 71,
   "metadata": {},
   "outputs": [],
   "source": [
    "template = pd.read_csv('import_template.csv')\n",
    "diction = pd.read_excel(\"data_dictionary.xlsx\")"
   ]
  },
  {
   "cell_type": "code",
   "execution_count": 81,
   "metadata": {},
   "outputs": [
    {
     "data": {
      "text/plain": [
       "Index(['demographics_complete', 'covid19_status_complete',\n",
       "       'additional_demographics_complete', 'medical_history_complete',\n",
       "       'current_medications_complete',\n",
       "       'post_covid_venous_thromboembolism_complete',\n",
       "       'post_covid_arterial_thrombosis_complete',\n",
       "       'post_covid_interventions_and_procedures_complete'],\n",
       "      dtype='object')"
      ]
     },
     "execution_count": 81,
     "metadata": {},
     "output_type": "execute_result"
    }
   ],
   "source": [
    "template.columns[template.columns.str.contains('complete')]"
   ]
  },
  {
   "cell_type": "code",
   "execution_count": 101,
   "metadata": {},
   "outputs": [
    {
     "data": {
      "text/plain": [
       "(134,)"
      ]
     },
     "execution_count": 101,
     "metadata": {},
     "output_type": "execute_result"
    }
   ],
   "source": [
    "template.columns"
   ]
  },
  {
   "cell_type": "code",
   "execution_count": 104,
   "metadata": {},
   "outputs": [
    {
     "data": {
      "text/html": [
       "<div>\n",
       "<style scoped>\n",
       "    .dataframe tbody tr th:only-of-type {\n",
       "        vertical-align: middle;\n",
       "    }\n",
       "\n",
       "    .dataframe tbody tr th {\n",
       "        vertical-align: top;\n",
       "    }\n",
       "\n",
       "    .dataframe thead th {\n",
       "        text-align: right;\n",
       "    }\n",
       "</style>\n",
       "<table border=\"1\" class=\"dataframe\">\n",
       "  <thead>\n",
       "    <tr style=\"text-align: right;\">\n",
       "      <th></th>\n",
       "      <th>OCTRI12531CoagulopathyOfCOVID1_DataDictionary_2022-06-12</th>\n",
       "      <th>Unnamed: 1</th>\n",
       "      <th>Unnamed: 2</th>\n",
       "      <th>Unnamed: 3</th>\n",
       "      <th>Unnamed: 4</th>\n",
       "      <th>Unnamed: 5</th>\n",
       "      <th>Unnamed: 6</th>\n",
       "      <th>Unnamed: 7</th>\n",
       "      <th>Unnamed: 8</th>\n",
       "      <th>Unnamed: 9</th>\n",
       "      <th>Unnamed: 10</th>\n",
       "      <th>Unnamed: 11</th>\n",
       "      <th>Unnamed: 12</th>\n",
       "      <th>Unnamed: 13</th>\n",
       "      <th>Unnamed: 14</th>\n",
       "      <th>Unnamed: 15</th>\n",
       "      <th>Unnamed: 16</th>\n",
       "      <th>Unnamed: 17</th>\n",
       "    </tr>\n",
       "  </thead>\n",
       "  <tbody>\n",
       "    <tr>\n",
       "      <th>1</th>\n",
       "      <td>record_id</td>\n",
       "      <td>demographics</td>\n",
       "      <td>NaN</td>\n",
       "      <td>text</td>\n",
       "      <td>Record ID</td>\n",
       "      <td>NaN</td>\n",
       "      <td>NaN</td>\n",
       "      <td>NaN</td>\n",
       "      <td>NaN</td>\n",
       "      <td>NaN</td>\n",
       "      <td>NaN</td>\n",
       "      <td>NaN</td>\n",
       "      <td>NaN</td>\n",
       "      <td>NaN</td>\n",
       "      <td>NaN</td>\n",
       "      <td>NaN</td>\n",
       "      <td>NaN</td>\n",
       "      <td>NaN</td>\n",
       "    </tr>\n",
       "    <tr>\n",
       "      <th>2</th>\n",
       "      <td>first_name</td>\n",
       "      <td>demographics</td>\n",
       "      <td>NaN</td>\n",
       "      <td>text</td>\n",
       "      <td>First Name</td>\n",
       "      <td>NaN</td>\n",
       "      <td>NaN</td>\n",
       "      <td>NaN</td>\n",
       "      <td>NaN</td>\n",
       "      <td>NaN</td>\n",
       "      <td>y</td>\n",
       "      <td>NaN</td>\n",
       "      <td>NaN</td>\n",
       "      <td>NaN</td>\n",
       "      <td>NaN</td>\n",
       "      <td>NaN</td>\n",
       "      <td>NaN</td>\n",
       "      <td>NaN</td>\n",
       "    </tr>\n",
       "    <tr>\n",
       "      <th>3</th>\n",
       "      <td>last_name</td>\n",
       "      <td>demographics</td>\n",
       "      <td>NaN</td>\n",
       "      <td>text</td>\n",
       "      <td>Last Name</td>\n",
       "      <td>NaN</td>\n",
       "      <td>NaN</td>\n",
       "      <td>NaN</td>\n",
       "      <td>NaN</td>\n",
       "      <td>NaN</td>\n",
       "      <td>y</td>\n",
       "      <td>NaN</td>\n",
       "      <td>NaN</td>\n",
       "      <td>NaN</td>\n",
       "      <td>NaN</td>\n",
       "      <td>NaN</td>\n",
       "      <td>NaN</td>\n",
       "      <td>NaN</td>\n",
       "    </tr>\n",
       "    <tr>\n",
       "      <th>4</th>\n",
       "      <td>mrn</td>\n",
       "      <td>demographics</td>\n",
       "      <td>NaN</td>\n",
       "      <td>text</td>\n",
       "      <td>MRN</td>\n",
       "      <td>NaN</td>\n",
       "      <td>NaN</td>\n",
       "      <td>NaN</td>\n",
       "      <td>NaN</td>\n",
       "      <td>NaN</td>\n",
       "      <td>y</td>\n",
       "      <td>NaN</td>\n",
       "      <td>y</td>\n",
       "      <td>NaN</td>\n",
       "      <td>NaN</td>\n",
       "      <td>NaN</td>\n",
       "      <td>NaN</td>\n",
       "      <td>NaN</td>\n",
       "    </tr>\n",
       "    <tr>\n",
       "      <th>5</th>\n",
       "      <td>dob</td>\n",
       "      <td>demographics</td>\n",
       "      <td>NaN</td>\n",
       "      <td>text</td>\n",
       "      <td>Date of Birth</td>\n",
       "      <td>NaN</td>\n",
       "      <td>NaN</td>\n",
       "      <td>date_mdy</td>\n",
       "      <td>1900-01-01</td>\n",
       "      <td>NaN</td>\n",
       "      <td>y</td>\n",
       "      <td>NaN</td>\n",
       "      <td>y</td>\n",
       "      <td>NaN</td>\n",
       "      <td>NaN</td>\n",
       "      <td>NaN</td>\n",
       "      <td>NaN</td>\n",
       "      <td>NaN</td>\n",
       "    </tr>\n",
       "    <tr>\n",
       "      <th>...</th>\n",
       "      <td>...</td>\n",
       "      <td>...</td>\n",
       "      <td>...</td>\n",
       "      <td>...</td>\n",
       "      <td>...</td>\n",
       "      <td>...</td>\n",
       "      <td>...</td>\n",
       "      <td>...</td>\n",
       "      <td>...</td>\n",
       "      <td>...</td>\n",
       "      <td>...</td>\n",
       "      <td>...</td>\n",
       "      <td>...</td>\n",
       "      <td>...</td>\n",
       "      <td>...</td>\n",
       "      <td>...</td>\n",
       "      <td>...</td>\n",
       "      <td>...</td>\n",
       "    </tr>\n",
       "    <tr>\n",
       "      <th>75</th>\n",
       "      <td>other_anticoagulant_treame</td>\n",
       "      <td>post_covid_interventions_and_procedures</td>\n",
       "      <td>NaN</td>\n",
       "      <td>notes</td>\n",
       "      <td>Other Anticoagulant Treament</td>\n",
       "      <td>NaN</td>\n",
       "      <td>NaN</td>\n",
       "      <td>NaN</td>\n",
       "      <td>NaN</td>\n",
       "      <td>NaN</td>\n",
       "      <td>NaN</td>\n",
       "      <td>[type_of_anticoagulation_tr] = '7'</td>\n",
       "      <td>NaN</td>\n",
       "      <td>NaN</td>\n",
       "      <td>NaN</td>\n",
       "      <td>NaN</td>\n",
       "      <td>NaN</td>\n",
       "      <td>NaN</td>\n",
       "    </tr>\n",
       "    <tr>\n",
       "      <th>76</th>\n",
       "      <td>mortality</td>\n",
       "      <td>post_covid_interventions_and_procedures</td>\n",
       "      <td>NaN</td>\n",
       "      <td>yesno</td>\n",
       "      <td>Mortality?</td>\n",
       "      <td>NaN</td>\n",
       "      <td>NaN</td>\n",
       "      <td>NaN</td>\n",
       "      <td>NaN</td>\n",
       "      <td>NaN</td>\n",
       "      <td>NaN</td>\n",
       "      <td>NaN</td>\n",
       "      <td>NaN</td>\n",
       "      <td>NaN</td>\n",
       "      <td>NaN</td>\n",
       "      <td>NaN</td>\n",
       "      <td>NaN</td>\n",
       "      <td>NaN</td>\n",
       "    </tr>\n",
       "    <tr>\n",
       "      <th>77</th>\n",
       "      <td>date_of_mortality</td>\n",
       "      <td>post_covid_interventions_and_procedures</td>\n",
       "      <td>NaN</td>\n",
       "      <td>text</td>\n",
       "      <td>Date of Mortality:</td>\n",
       "      <td>NaN</td>\n",
       "      <td>NaN</td>\n",
       "      <td>date_mdy</td>\n",
       "      <td>NaN</td>\n",
       "      <td>NaN</td>\n",
       "      <td>NaN</td>\n",
       "      <td>[mortality] = '1'</td>\n",
       "      <td>NaN</td>\n",
       "      <td>NaN</td>\n",
       "      <td>NaN</td>\n",
       "      <td>NaN</td>\n",
       "      <td>NaN</td>\n",
       "      <td>NaN</td>\n",
       "    </tr>\n",
       "    <tr>\n",
       "      <th>78</th>\n",
       "      <td>cause_of_death</td>\n",
       "      <td>post_covid_interventions_and_procedures</td>\n",
       "      <td>NaN</td>\n",
       "      <td>radio</td>\n",
       "      <td>Cause of Death</td>\n",
       "      <td>1, VTE | 2, Arterial thrombosis | 3, Other</td>\n",
       "      <td>NaN</td>\n",
       "      <td>NaN</td>\n",
       "      <td>NaN</td>\n",
       "      <td>NaN</td>\n",
       "      <td>NaN</td>\n",
       "      <td>[mortality] = '1'</td>\n",
       "      <td>NaN</td>\n",
       "      <td>NaN</td>\n",
       "      <td>NaN</td>\n",
       "      <td>NaN</td>\n",
       "      <td>NaN</td>\n",
       "      <td>NaN</td>\n",
       "    </tr>\n",
       "    <tr>\n",
       "      <th>79</th>\n",
       "      <td>cause_of_death1</td>\n",
       "      <td>post_covid_interventions_and_procedures</td>\n",
       "      <td>NaN</td>\n",
       "      <td>notes</td>\n",
       "      <td>Cause of Death</td>\n",
       "      <td>NaN</td>\n",
       "      <td>NaN</td>\n",
       "      <td>NaN</td>\n",
       "      <td>NaN</td>\n",
       "      <td>NaN</td>\n",
       "      <td>NaN</td>\n",
       "      <td>[mortality] = '1'</td>\n",
       "      <td>NaN</td>\n",
       "      <td>NaN</td>\n",
       "      <td>NaN</td>\n",
       "      <td>NaN</td>\n",
       "      <td>NaN</td>\n",
       "      <td>NaN</td>\n",
       "    </tr>\n",
       "  </tbody>\n",
       "</table>\n",
       "<p>65 rows × 18 columns</p>\n",
       "</div>"
      ],
      "text/plain": [
       "   OCTRI12531CoagulopathyOfCOVID1_DataDictionary_2022-06-12  \\\n",
       "1                                           record_id         \n",
       "2                                          first_name         \n",
       "3                                           last_name         \n",
       "4                                                 mrn         \n",
       "5                                                 dob         \n",
       "..                                                ...         \n",
       "75                         other_anticoagulant_treame         \n",
       "76                                          mortality         \n",
       "77                                  date_of_mortality         \n",
       "78                                     cause_of_death         \n",
       "79                                    cause_of_death1         \n",
       "\n",
       "                                 Unnamed: 1 Unnamed: 2 Unnamed: 3  \\\n",
       "1                              demographics        NaN       text   \n",
       "2                              demographics        NaN       text   \n",
       "3                              demographics        NaN       text   \n",
       "4                              demographics        NaN       text   \n",
       "5                              demographics        NaN       text   \n",
       "..                                      ...        ...        ...   \n",
       "75  post_covid_interventions_and_procedures        NaN      notes   \n",
       "76  post_covid_interventions_and_procedures        NaN      yesno   \n",
       "77  post_covid_interventions_and_procedures        NaN       text   \n",
       "78  post_covid_interventions_and_procedures        NaN      radio   \n",
       "79  post_covid_interventions_and_procedures        NaN      notes   \n",
       "\n",
       "                      Unnamed: 4                                  Unnamed: 5  \\\n",
       "1                      Record ID                                         NaN   \n",
       "2                     First Name                                         NaN   \n",
       "3                      Last Name                                         NaN   \n",
       "4                            MRN                                         NaN   \n",
       "5                  Date of Birth                                         NaN   \n",
       "..                           ...                                         ...   \n",
       "75  Other Anticoagulant Treament                                         NaN   \n",
       "76                    Mortality?                                         NaN   \n",
       "77            Date of Mortality:                                         NaN   \n",
       "78                Cause of Death  1, VTE | 2, Arterial thrombosis | 3, Other   \n",
       "79                Cause of Death                                         NaN   \n",
       "\n",
       "   Unnamed: 6 Unnamed: 7  Unnamed: 8 Unnamed: 9 Unnamed: 10  \\\n",
       "1         NaN        NaN         NaN        NaN         NaN   \n",
       "2         NaN        NaN         NaN        NaN           y   \n",
       "3         NaN        NaN         NaN        NaN           y   \n",
       "4         NaN        NaN         NaN        NaN           y   \n",
       "5         NaN   date_mdy  1900-01-01        NaN           y   \n",
       "..        ...        ...         ...        ...         ...   \n",
       "75        NaN        NaN         NaN        NaN         NaN   \n",
       "76        NaN        NaN         NaN        NaN         NaN   \n",
       "77        NaN   date_mdy         NaN        NaN         NaN   \n",
       "78        NaN        NaN         NaN        NaN         NaN   \n",
       "79        NaN        NaN         NaN        NaN         NaN   \n",
       "\n",
       "                           Unnamed: 11 Unnamed: 12 Unnamed: 13 Unnamed: 14  \\\n",
       "1                                  NaN         NaN         NaN         NaN   \n",
       "2                                  NaN         NaN         NaN         NaN   \n",
       "3                                  NaN         NaN         NaN         NaN   \n",
       "4                                  NaN           y         NaN         NaN   \n",
       "5                                  NaN           y         NaN         NaN   \n",
       "..                                 ...         ...         ...         ...   \n",
       "75  [type_of_anticoagulation_tr] = '7'         NaN         NaN         NaN   \n",
       "76                                 NaN         NaN         NaN         NaN   \n",
       "77                   [mortality] = '1'         NaN         NaN         NaN   \n",
       "78                   [mortality] = '1'         NaN         NaN         NaN   \n",
       "79                   [mortality] = '1'         NaN         NaN         NaN   \n",
       "\n",
       "   Unnamed: 15 Unnamed: 16 Unnamed: 17  \n",
       "1          NaN         NaN         NaN  \n",
       "2          NaN         NaN         NaN  \n",
       "3          NaN         NaN         NaN  \n",
       "4          NaN         NaN         NaN  \n",
       "5          NaN         NaN         NaN  \n",
       "..         ...         ...         ...  \n",
       "75         NaN         NaN         NaN  \n",
       "76         NaN         NaN         NaN  \n",
       "77         NaN         NaN         NaN  \n",
       "78         NaN         NaN         NaN  \n",
       "79         NaN         NaN         NaN  \n",
       "\n",
       "[65 rows x 18 columns]"
      ]
     },
     "execution_count": 104,
     "metadata": {},
     "output_type": "execute_result"
    }
   ],
   "source": [
    "title = 'OCTRI12531CoagulopathyOfCOVID1_DataDictionary_2022-06-12'\n",
    "diction[diction[title].isin(template.columns)]"
   ]
  },
  {
   "cell_type": "code",
   "execution_count": 92,
   "metadata": {},
   "outputs": [
    {
     "data": {
      "text/plain": [
       "array([False, False, False, False, False, False, False, False, False,\n",
       "       False, False, False, False, False, False, False, False, False])"
      ]
     },
     "execution_count": 92,
     "metadata": {},
     "output_type": "execute_result"
    }
   ],
   "source": [
    "diction.columns"
   ]
  },
  {
   "cell_type": "code",
   "execution_count": null,
   "metadata": {},
   "outputs": [],
   "source": []
  }
 ],
 "metadata": {
  "interpreter": {
   "hash": "10e0d638eefbd210342c1bec3aaa83b3d24bdcf44b91d0e162aeefbc2327be95"
  },
  "kernelspec": {
   "display_name": "Python 3.9.10 ('coag_env': venv)",
   "language": "python",
   "name": "python3"
  },
  "language_info": {
   "codemirror_mode": {
    "name": "ipython",
    "version": 3
   },
   "file_extension": ".py",
   "mimetype": "text/x-python",
   "name": "python",
   "nbconvert_exporter": "python",
   "pygments_lexer": "ipython3",
   "version": "3.9.10"
  }
 },
 "nbformat": 4,
 "nbformat_minor": 2
}
